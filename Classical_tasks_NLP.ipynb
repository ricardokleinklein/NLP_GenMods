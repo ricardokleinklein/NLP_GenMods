{
 "cells": [
  {
   "cell_type": "markdown",
   "metadata": {},
   "source": [
    "# Procesamiento de Lenguaje Natural (PLN)\n",
    "\n",
    "## Tareas Clásicas en PLN\n",
    "\n",
    "Creado por *Ricardo Kleinlein* para [Saturdays.AI](https://saturdays.ai/).\n",
    "\n",
    "Disponible bajo una licencia [Creative Commons](https://creativecommons.org/licenses/by/4.0/).\n",
    "\n",
    "---"
   ]
  },
  {
   "cell_type": "markdown",
   "metadata": {},
   "source": [
    "## Sobre el uso de Jupyter Notebooks\n",
    "\n",
    "Este notebook ha sido implementado en Python, pero para su ejecución no es\n",
    "necesario conocer el lenguaje en profundidad. Solamente se debe ejecutar cada\n",
    "una de las celdas, teniendo en cuenta que hay que ejecutar una celda a la vez\n",
    "y secuencialmente, tal y como figuran en orden de aparición.\n",
    "\n",
    "Para ejecutar cada celda pulse en el botón ▶ en la esquina superior izquierda\n",
    "de cada celda. Mientras se esté ejecutando ese fragmento de código,\n",
    "el botón estará girando. En caso de querer detener dicha ejecución, pulse\n",
    "nuevamente sobre este botón mientras gira y la ejecución se detendrá. En caso\n",
    "de que la celda tenga alguna salida (texto, gráficos, etc) será mostrada\n",
    "justo después de esta y antes de mostrar la siguiente celda. El notebook\n",
    "estará guiado con todas las explicaciones necesarias, además irá acompañado\n",
    "por comentarios en el código para facilitar su lectura.\n",
    "\n",
    "En caso de tener alguna duda, anótela. Dedicaremos un tiempo a plantear y\n",
    "resolver la mayoría delas dudas que puedan aparecer.\n"
   ]
  },
  {
   "cell_type": "markdown",
   "metadata": {},
   "source": [
    "## Objetivo del notebook\n",
    "\n",
    "El objetivo de este notebook es que el usuario implemente algunas tareas\n",
    "clásicas dentro del PLN:\n",
    "\n",
    "- Part Of Speech Tagging (POS)\n",
    "- Named Entity Recognition (NER)\n",
    "- Sentiment Analysis"
   ]
  },
  {
   "cell_type": "markdown",
   "metadata": {},
   "source": [
    "## Importamos las librerías necesarias\n",
    "\n",
    "Para no tener que preocuparnos más tarde, vamos a cargar en este momento\n",
    "todas las librerías necesarias.\n",
    "\n",
    "Recuerde, **una librería es tan sólo un conjunto de herramientas ya\n",
    "programadas** de tal forma que podemos centrarnos en otros aspectos del\n",
    "trabajo sin tener que escribir todo el código de cero cada vez."
   ]
  },
  {
   "cell_type": "code",
   "execution_count": 1,
   "metadata": {
    "pycharm": {
     "name": "#%%\n"
    }
   },
   "outputs": [
    {
     "name": "stderr",
     "output_type": "stream",
     "text": [
      "[nltk_data] Downloading package names to\n",
      "[nltk_data]     /Users/ricardokleinlein/nltk_data...\n",
      "[nltk_data]   Package names is already up-to-date!\n",
      "[nltk_data] Downloading package stopwords to\n",
      "[nltk_data]     /Users/ricardokleinlein/nltk_data...\n",
      "[nltk_data]   Package stopwords is already up-to-date!\n",
      "[nltk_data] Downloading package twitter_samples to\n",
      "[nltk_data]     /Users/ricardokleinlein/nltk_data...\n",
      "[nltk_data]   Package twitter_samples is already up-to-date!\n",
      "[nltk_data] Downloading package movie_reviews to\n",
      "[nltk_data]     /Users/ricardokleinlein/nltk_data...\n",
      "[nltk_data]   Package movie_reviews is already up-to-date!\n",
      "[nltk_data] Downloading package averaged_perceptron_tagger to\n",
      "[nltk_data]     /Users/ricardokleinlein/nltk_data...\n",
      "[nltk_data]   Package averaged_perceptron_tagger is already up-to-\n",
      "[nltk_data]       date!\n",
      "[nltk_data] Downloading package maxent_ne_chunker to\n",
      "[nltk_data]     /Users/ricardokleinlein/nltk_data...\n",
      "[nltk_data]   Package maxent_ne_chunker is already up-to-date!\n",
      "[nltk_data] Downloading package words to\n",
      "[nltk_data]     /Users/ricardokleinlein/nltk_data...\n",
      "[nltk_data]   Package words is already up-to-date!\n"
     ]
    }
   ],
   "source": [
    "import random\n",
    "import string   # Operaciones sobre texto\n",
    "import numpy    # Algebra\n",
    "import nltk     # Natural Language Toolkit\n",
    "\n",
    "from tqdm import tqdm\n",
    "\n",
    "nltk.download([\"names\", \"stopwords\", \"twitter_samples\",\n",
    "              \"movie_reviews\", \"averaged_perceptron_tagger\",\n",
    "               \"maxent_ne_chunker\", \"words\"])\n",
    "\n",
    "from nltk import tokenize\n",
    "from nltk import corpus\n",
    "from nltk import sentiment"
   ]
  },
  {
   "cell_type": "markdown",
   "metadata": {
    "pycharm": {
     "name": "#%% md\n"
    }
   },
   "source": [
    "## Part Of Speech Tagging (POS)\n",
    "\n",
    "Conocer la categoría gramatical de una palabra puede ser especialmente\n",
    "importante si queremos analizar la estructura de la oración y entender mejor\n",
    " el rol que juega cada palabra dentro de la frase. Con ello podemos filtrar\n",
    " palabras, separarlas por categorías o realizar otro tipo de operaciones.\n",
    " Por ejemplo, podemos estar interesados en extraer sólo los adjetivos dentro\n",
    "  de las críticas a nuestro producto, y así tener una perspectiva de la\n",
    "  satisfacción de nuestros clientes.\n",
    "\n",
    "En un primer ejercicio, vamos a predecir qué rol gramatical juega cada\n",
    "palabra dentro de una frase. Esto significa asignar una categoría a cada\n",
    "palabra, siendo dichas categorías:\n",
    "\n",
    "- Nombre\n",
    "- Pronombre\n",
    "- Adjetivo\n",
    "- Verbo\n",
    "- Adverbio\n",
    "- Preposición\n",
    "- Conjunción\n",
    "- Interjección\n",
    "- Artículos\n",
    "- Determinantes\n",
    "\n",
    "La equivalencia a la hora de indicar la categoría gramatical de una palabra\n",
    "es, en parte:\n",
    "\n",
    "![Equivalencia NLTK-Categoría Gramatical](./assets/tabla.png)\n",
    "\n",
    "Vamos a imaginar que un producto concreto consta en nuestra web de dos\n",
    "críticas:"
   ]
  },
  {
   "cell_type": "code",
   "execution_count": 2,
   "metadata": {
    "pycharm": {
     "name": "#%%\n"
    }
   },
   "outputs": [
    {
     "name": "stdout",
     "output_type": "stream",
     "text": [
      "['i', 'bought', 'this', 'the', 'last', 'year', 'and', 'the', 'result', 'is', 'great', 'quite', 'good', 'although', 'it', 'is', 'a', 'bit', 'expensive', 'the', 'product', 'itself', 'is', 'the', 'best', 'in', 'market']\n"
     ]
    }
   ],
   "source": [
    "reviews = [\"I bought this the last year and the result is great, quite good\",\n",
    "           \"Although it is a bit expensive, the product itself is the best in market\"]\n",
    "reviews = ' '.join(reviews).lower()\n",
    "\n",
    "def remove_punctuation(sentence):\n",
    "  return sentence.translate(str.maketrans('', '', string.punctuation))\n",
    "\n",
    "reviews = remove_punctuation(reviews)\n",
    "words = tokenize.word_tokenize(reviews)\n",
    "\n",
    "print(words)"
   ]
  },
  {
   "cell_type": "code",
   "execution_count": 3,
   "metadata": {
    "pycharm": {
     "name": "#%%\n"
    }
   },
   "outputs": [
    {
     "name": "stdout",
     "output_type": "stream",
     "text": [
      "Categoría de cada palabra:\n",
      "[('i', 'NN'), ('bought', 'VBD'), ('this', 'DT'), ('the', 'DT'), ('last', 'JJ'), ('year', 'NN'), ('and', 'CC'), ('the', 'DT'), ('result', 'NN'), ('is', 'VBZ'), ('great', 'JJ'), ('quite', 'RB'), ('good', 'JJ'), ('although', 'IN'), ('it', 'PRP'), ('is', 'VBZ'), ('a', 'DT'), ('bit', 'RB'), ('expensive', 'JJ'), ('the', 'DT'), ('product', 'NN'), ('itself', 'PRP'), ('is', 'VBZ'), ('the', 'DT'), ('best', 'JJS'), ('in', 'IN'), ('market', 'NN')]\n"
     ]
    }
   ],
   "source": [
    "# Estimamos la categoría gramatical de cada palabra\n",
    "pos_tags = nltk.pos_tag(words)\n",
    "print('Categoría de cada palabra:')\n",
    "print(pos_tags)"
   ]
  },
  {
   "cell_type": "markdown",
   "metadata": {
    "pycharm": {
     "name": "#%% md\n"
    }
   },
   "source": [
    "Fijémonos en qué adjetivos están empleando:"
   ]
  },
  {
   "cell_type": "code",
   "execution_count": 4,
   "metadata": {
    "pycharm": {
     "name": "#%%\n"
    }
   },
   "outputs": [
    {
     "name": "stdout",
     "output_type": "stream",
     "text": [
      "['last', 'great', 'good', 'expensive']\n"
     ]
    }
   ],
   "source": [
    "adjectives = [word for i, word in enumerate(words) if pos_tags[i][1] == 'JJ']\n",
    "print(adjectives)"
   ]
  },
  {
   "cell_type": "markdown",
   "metadata": {
    "pycharm": {
     "name": "#%% md\n"
    }
   },
   "source": [
    "Y esto es solo un ejemplo de juguete, pero ya podemos ver cómo de manera\n",
    "rápida hemos podido comprobar que nuestros 2 clientes piensan que aunque el\n",
    "producto es muy bueno, quizás tenga un coste un poco elevado.\n",
    "\n",
    "En situaciones donde el número de comentarios sea mucho mayor, con un\n",
    "lenguaje más complejo y elaborado, es probable que tengamos que emplear\n",
    "herramientas más avanzadas para estudiar la opinión de la audiencia. No\n",
    "obstante, este paso de identificar las palabras que corresponden a una\n",
    "categoría gramatical dada sigue siendo un paso fundamental en muchas\n",
    "aplicaciones PLN."
   ]
  },
  {
   "cell_type": "markdown",
   "metadata": {
    "pycharm": {
     "name": "#%% md\n"
    }
   },
   "source": [
    "## Named Entity Recognition (NER)\n",
    "\n",
    "n el caso anterior tratábamos con categorías gramaticales en un caso general\n",
    ". Pero, ¿y si estamos interesados en algún concepto en particular? Podemos\n",
    "pensar en una organización (por ejemplo, buscar noticias sobre la OTAN), en\n",
    "una persona en concreto, en una localización... Las posibilidades son\n",
    "infinitas.\n",
    "\n",
    "Veamos un ejemplo de noticia (falsa completamente):"
   ]
  },
  {
   "cell_type": "code",
   "execution_count": 5,
   "metadata": {
    "pycharm": {
     "name": "#%%\n"
    }
   },
   "outputs": [
    {
     "name": "stdout",
     "output_type": "stream",
     "text": [
      "['China', 'United', 'China', 'Europe', 'Germany', 'Russian']\n"
     ]
    }
   ],
   "source": [
    "news = \"\"\"\n",
    "While in the 80's China was universally regarded as a third-world country,\n",
    "the fierce opposition to the United States shown in recent times pose a\n",
    "question mark on what the situation of China will be by 2050.\n",
    "\n",
    "Analogously, it will be of the utmost relevance how Europe, and in particular,\n",
    "Germany, deals with the Russian bear.\n",
    "\"\"\"\n",
    "\n",
    "words = tokenize.word_tokenize(news)\n",
    "pos_tags = nltk.pos_tag(words)\n",
    "tree = nltk.ne_chunk(pos_tags)\n",
    "named_entities = [item.leaves()[0][0] for item in tree if not isinstance(item, tuple)]\n",
    "print(named_entities) # De qué países habla esta noticia?"
   ]
  },
  {
   "cell_type": "markdown",
   "source": [
    "Con exactamente 4 líneas de código, hemos sido capaces de ubicar el contexto\n",
    "de esta noticia, la cual trata de varios países, apuntando a una temática\n",
    "centrada en la geopolítica."
   ],
   "metadata": {
    "collapsed": false,
    "pycharm": {
     "name": "#%% md\n"
    }
   }
  },
  {
   "cell_type": "markdown",
   "source": [
    "## Sentiment Analysis\n",
    "\n",
    "### En Tweets\n",
    "\n",
    "En un ejemplo anterior, comentábamos cómo el dilucidar las impresiones a\n",
    "partir de críticas puede ser complejo si el volumen de las mismas es alto o\n",
    "aumenta la riqueza del léxico empleado.\n",
    "\n",
    "Por eso, vamos a dar un paso más allá y vamos a tratar de predecir la\n",
    "polaridad de miles de tweets reales. Con ello, diremos si un tweet dado es\n",
    "POSITIVO o por el contrario tiene una intención NEGATIVA."
   ],
   "metadata": {
    "collapsed": false,
    "pycharm": {
     "name": "#%% md\n"
    }
   }
  },
  {
   "cell_type": "code",
   "execution_count": 6,
   "outputs": [
    {
     "name": "stdout",
     "output_type": "stream",
     "text": [
      "[\"RT @BarrySheerman: Are there any non-Tory leaning journalists on @BBCNews? Tonight's coverage a disgrace from a broadcaster funded by publi…\"\n",
      " \"RT @Jason_Spacey: Nigel Farage is right when he says that Ukip supporters aren't closet racists. Most of the ones I've met are openly racis…\"\n",
      " 'RT @Nigel_Farage: Thanks for watching #AskNigelFarage! If you want more detail please visit http://t.co/YMvAusaXi8'\n",
      " 'RT @edballsmp: David Cameron deliberately misleading about his planned spending cuts - his cuts double next year, biggest cuts of any advan…'\n",
      " '“@OddMiliband: Ed Miliband trying to understand human emotion http://t.co/jV3GRYucN5”'\n",
      " \"@LeandraPrins that's so cool! And random! Haha next time yell at me or something :) :)\"\n",
      " '@poseyo alright there Ed Miliband'\n",
      " '@WeAlwaysChillin This sounds nice :D'\n",
      " 'RT @HopeoverFear45: RT THE HELL OUT OF THIS \\n\\nHere is Ed Miliband handing the GE to the Tories \\n#labourdoorstep \\nhttp://t.co/Kjt9Au0tHf htt…'\n",
      " \"@RobMolloy92 She's on all the political shows as a presenter, biased like that all the time toward UKIP.\"]\n"
     ]
    }
   ],
   "source": [
    "tweets = corpus.twitter_samples.strings()\n",
    "random_samples = numpy.random.choice(tweets, 10)\n",
    "print(random_samples)"
   ],
   "metadata": {
    "collapsed": false,
    "pycharm": {
     "name": "#%%\n"
    }
   }
  },
  {
   "cell_type": "markdown",
   "source": [
    "NLTK tiene integrada una herramienta que simplifica enormemente el trabajo:"
   ],
   "metadata": {
    "collapsed": false,
    "pycharm": {
     "name": "#%% md\n"
    }
   }
  },
  {
   "cell_type": "code",
   "execution_count": 7,
   "outputs": [
    {
     "name": "stdout",
     "output_type": "stream",
     "text": [
      "Tweet: RT @BarrySheerman: Are there any non-Tory leaning journalists on @BBCNews? Tonight's coverage a disgrace from a broadcaster funded by publi…\n",
      "  Is positive?: False\n",
      "Tweet: RT @Jason_Spacey: Nigel Farage is right when he says that Ukip supporters aren't closet racists. Most of the ones I've met are openly racis…\n",
      "  Is positive?: True\n",
      "Tweet: RT @Nigel_Farage: Thanks for watching #AskNigelFarage! If you want more detail please visit http://t.co/YMvAusaXi8\n",
      "  Is positive?: True\n",
      "Tweet: RT @edballsmp: David Cameron deliberately misleading about his planned spending cuts - his cuts double next year, biggest cuts of any advan…\n",
      "  Is positive?: False\n",
      "Tweet: “@OddMiliband: Ed Miliband trying to understand human emotion http://t.co/jV3GRYucN5”\n",
      "  Is positive?: False\n",
      "Tweet: @LeandraPrins that's so cool! And random! Haha next time yell at me or something :) :)\n",
      "  Is positive?: True\n",
      "Tweet: @poseyo alright there Ed Miliband\n",
      "  Is positive?: True\n",
      "Tweet: @WeAlwaysChillin This sounds nice :D\n",
      "  Is positive?: True\n",
      "Tweet: RT @HopeoverFear45: RT THE HELL OUT OF THIS \n",
      "\n",
      "Here is Ed Miliband handing the GE to the Tories \n",
      "#labourdoorstep \n",
      "http://t.co/Kjt9Au0tHf htt…\n",
      "  Is positive?: False\n",
      "Tweet: @RobMolloy92 She's on all the political shows as a presenter, biased like that all the time toward UKIP.\n",
      "  Is positive?: True\n"
     ]
    }
   ],
   "source": [
    "sia = sentiment.SentimentIntensityAnalyzer()\n",
    "\n",
    "def is_positive(tweet: str) -> bool:\n",
    "    \"\"\"True if a tweet has a positive polarity, False otherwise.\"\"\"\n",
    "    return sia.polarity_scores(tweet)[\"compound\"] > 0\n",
    "\n",
    "for tweet in random_samples:\n",
    "    print(f'Tweet: {tweet}\\n  Is positive?: {is_positive(tweet)}')"
   ],
   "metadata": {
    "collapsed": false,
    "pycharm": {
     "name": "#%%\n"
    }
   }
  },
  {
   "cell_type": "markdown",
   "source": [
    "¿Se observan resultados razonables?\n",
    "\n",
    "Lamentablemente, estos datos no constan de una etiqueta que nos confirme si\n",
    "nuestra predicción es acertada o no, lo cual complica la sistematización y\n",
    "evaluación de nuestro modelo de polaridad en tweets."
   ],
   "metadata": {
    "collapsed": false,
    "pycharm": {
     "name": "#%% md\n"
    }
   }
  },
  {
   "cell_type": "markdown",
   "source": [
    "### Críticas cinematográficas\n",
    "\n",
    "En el ejemplo anterior sufríamos de una pequeña limitación: la falta de\n",
    "etiquetas. Es decir, podemos predecir si un tweet es positivo o negativo,\n",
    "pero solo a partir de la estimación que hace nuestro modelo, el cual está\n",
    "preparado para trabajar con lenguaje general, no con el humor ácido y la\n",
    "crítica que es omnipresente en Twitter.\n",
    "\n",
    "Por eso vamos a trabajar ahora estimando la positivdad o negatividad de las\n",
    "opiniones vertidas por los usuarios de una conocida plataforma de crítica de\n",
    " cine. Uno de los aspectos más interesantes de estos datos es que para cada\n",
    " crítica, contamos con una etiqueta que nos dice la polaridad real de la\n",
    "misma, y por tanto podemos comparar el funcionamiento y calidad de\n",
    "la predicción de diferentes algoritmos.\n",
    "\n",
    "#### Recopilación de los datos"
   ],
   "metadata": {
    "collapsed": false,
    "pycharm": {
     "name": "#%% md\n"
    }
   }
  },
  {
   "cell_type": "code",
   "execution_count": 8,
   "outputs": [],
   "source": [
    "reviews_pos = nltk.corpus.movie_reviews.fileids(categories=[\"pos\"])\n",
    "reviews_neg = nltk.corpus.movie_reviews.fileids(categories=[\"neg\"])\n",
    "all_reviews = reviews_pos + reviews_neg"
   ],
   "metadata": {
    "collapsed": false,
    "pycharm": {
     "name": "#%%\n"
    }
   }
  },
  {
   "cell_type": "code",
   "execution_count": 9,
   "outputs": [],
   "source": [
    "# modificamos la función anterior para trabajar con reviews enteras, no solo con frases.\n",
    "# para ello, tomaremos la media de la valoración de las frases dentro de una critica\n",
    "def is_positive(review_id: str) -> bool:\n",
    "  \"\"\"True if th average of all sentence compound scores is positive, False\n",
    "  otherwise\"\"\"\n",
    "  review = nltk.corpus.movie_reviews.raw(review_id)\n",
    "  scores = [sia.polarity_scores(sent)[\"compound\"] for sent in\n",
    "            tokenize.sent_tokenize(review)]\n",
    "  return numpy.mean(scores) > 0"
   ],
   "metadata": {
    "collapsed": false,
    "pycharm": {
     "name": "#%%\n"
    }
   }
  },
  {
   "cell_type": "markdown",
   "source": [
    "Vamos a evaluar qué tan bueno es el analizador de sentimientos que hemos\n",
    "venido utilizando. Para ello, vamos a comparar cada predicción con la\n",
    "etiqueta del tweet correspondiente."
   ],
   "metadata": {
    "collapsed": false,
    "pycharm": {
     "name": "#%% md\n"
    }
   }
  },
  {
   "cell_type": "code",
   "execution_count": 10,
   "outputs": [
    {
     "name": "stderr",
     "output_type": "stream",
     "text": [
      "100%|██████████| 2000/2000 [00:58<00:00, 34.33it/s]"
     ]
    },
    {
     "name": "stdout",
     "output_type": "stream",
     "text": [
      "\n",
      "Precision (accuracy): 64.00%\n"
     ]
    },
    {
     "name": "stderr",
     "output_type": "stream",
     "text": [
      "\n"
     ]
    }
   ],
   "source": [
    "correct = 0\n",
    "for review_id in tqdm(all_reviews, total=len(all_reviews)):\n",
    "  if is_positive(review_id):\n",
    "    if review_id in reviews_pos:\n",
    "      correct += 1\n",
    "  else:\n",
    "    if review_id in reviews_neg:\n",
    "      correct += 1\n",
    "print()\n",
    "print(f'Precision (accuracy): {correct / len(all_reviews):.2%}')"
   ],
   "metadata": {
    "collapsed": false,
    "pycharm": {
     "name": "#%%\n"
    }
   }
  },
  {
   "cell_type": "markdown",
   "source": [
    "¡64% de precisión! No es un mal resultado, pero podemos mejorarlo de manera\n",
    "rápida y sencilla.\n",
    "\n",
    "Por ejemplo, podemos eliminar de los tweets los nombres propios, para evitar\n",
    " posibles confusiones de nuestro algoritmo."
   ],
   "metadata": {
    "collapsed": false,
    "pycharm": {
     "name": "#%% md\n"
    }
   }
  },
  {
   "cell_type": "code",
   "execution_count": 11,
   "outputs": [
    {
     "name": "stdout",
     "output_type": "stream",
     "text": [
      "['a', 'aamir', 'aaron', 'abagael', 'abagail', 'abbe', 'abbey', 'abbi', 'abbie', 'abbot']\n"
     ]
    }
   ],
   "source": [
    "stop_words = corpus.stopwords.words('english')\n",
    "stop_words.extend([w.lower() for w in corpus.names.words()])\n",
    "print(sorted(list(set(stop_words)))[:10])"
   ],
   "metadata": {
    "collapsed": false,
    "pycharm": {
     "name": "#%%\n"
    }
   }
  },
  {
   "cell_type": "markdown",
   "source": [
    "Igualmente, podemos eliminar las referencias a los números y otros nombres\n",
    "propios relevantes:"
   ],
   "metadata": {
    "collapsed": false,
    "pycharm": {
     "name": "#%% md\n"
    }
   }
  },
  {
   "cell_type": "code",
   "execution_count": 12,
   "outputs": [],
   "source": [
    "def skip_unwanted_words(tag_pos_tuple):\n",
    "    \"\"\"Skip useless words\"\"\"\n",
    "    word, tag = tag_pos_tuple\n",
    "    if not word.isalpha() or word in stop_words:\n",
    "        return False\n",
    "    if tag.startswith(\"NN\"):\n",
    "        return False\n",
    "    return True\n",
    "\n",
    "positive_words = [word for word, tag in filter(skip_unwanted_words,\n",
    "                                               nltk.pos_tag(corpus.movie_reviews.words(categories=[\"pos\"])))]\n",
    "negative_words = [word for word, tag in filter(skip_unwanted_words,\n",
    "                                               nltk.pos_tag(corpus.movie_reviews.words(categories=[\"neg\"])))]"
   ],
   "metadata": {
    "collapsed": false,
    "pycharm": {
     "name": "#%%\n"
    }
   }
  },
  {
   "cell_type": "markdown",
   "source": [
    "De hecho, vamos a usar esta función para detectar qué palabras sólo aparecen\n",
    " en contextos positivos, y cuáles solo en tweets negativos. A nuestro\n",
    " clasificador, le añadiremos dicha información (una nueva \"feature\").\n",
    " Comprobemos si eso ayuda a nuestra tarea de clasificación..."
   ],
   "metadata": {
    "collapsed": false,
    "pycharm": {
     "name": "#%% md\n"
    }
   }
  },
  {
   "cell_type": "code",
   "execution_count": 13,
   "outputs": [
    {
     "data": {
      "text/plain": "<Figure size 432x288 with 1 Axes>",
      "image/png": "[encoded data removed]"
     },
     "metadata": {
      "needs_background": "light"
     },
     "output_type": "display_data"
    },
    {
     "data": {
      "text/plain": "<Figure size 432x288 with 1 Axes>",
      "image/png": "[encoded data removed]"
     },
     "metadata": {
      "needs_background": "light"
     },
     "output_type": "display_data"
    },
    {
     "data": {
      "text/plain": "<AxesSubplot:title={'center':'TOP20 most negative words'}, xlabel='Samples', ylabel='Counts'>"
     },
     "execution_count": 13,
     "metadata": {},
     "output_type": "execute_result"
    }
   ],
   "source": [
    "positive_fd = nltk.FreqDist(positive_words)\n",
    "negative_fd = nltk.FreqDist(negative_words)\n",
    "common_set = set(positive_fd).intersection(negative_fd)\n",
    "\n",
    "for word in common_set:\n",
    "  del positive_fd[word]\n",
    "  del negative_fd[word]\n",
    "\n",
    "top_100_pos = {word for word, count in positive_fd.most_common(100)}\n",
    "top_100_neg = {word for word, count in negative_fd.most_common(100)}\n",
    "\n",
    "positive_fd.plot(20, title=\"TOP20 most positive words\")\n",
    "negative_fd.plot(20, title=\"TOP20 most negative words\")"
   ],
   "metadata": {
    "collapsed": false,
    "pycharm": {
     "name": "#%%\n"
    }
   }
  },
  {
   "cell_type": "code",
   "execution_count": 14,
   "outputs": [],
   "source": [
    "def extract_features(text):\n",
    "  features = dict()\n",
    "  wordcount = 0\n",
    "  compound_scores = list()\n",
    "  positive_scores = list()\n",
    "  for sentence in tokenize.sent_tokenize(text):\n",
    "    for word in tokenize.word_tokenize(sentence):\n",
    "      if word.lower() in top_100_pos:\n",
    "        wordcount += 1\n",
    "    compound_scores.append(sia.polarity_scores(sentence)[\"compound\"])\n",
    "    positive_scores.append(sia.polarity_scores(sentence)[\"pos\"])\n",
    "\n",
    "  # Sumar 1 a la punctuacion para homogeneizar en casos posteriores\n",
    "  features[\"mean_compound\"] = numpy.mean(compound_scores) + 1\n",
    "  features[\"mean_positive\"] = numpy.mean(positive_scores)\n",
    "  features[\"wordcount\"] = wordcount\n",
    "  return features\n",
    "\n",
    "features = [\n",
    "            (extract_features(corpus.movie_reviews.raw(review)), \"pos\")\n",
    "            for review in corpus.movie_reviews.fileids(categories=[\"pos\"])\n",
    "]\n",
    "features.extend([\n",
    "            (extract_features(corpus.movie_reviews.raw(review)), \"neg\")\n",
    "            for review in corpus.movie_reviews.fileids(categories=[\"neg\"])\n",
    "])"
   ],
   "metadata": {
    "collapsed": false,
    "pycharm": {
     "name": "#%%\n"
    }
   }
  },
  {
   "cell_type": "markdown",
   "source": [
    "### Entrenamiento de algoritmos\n",
    "\n",
    "Como ya se ha explicado en otras sesiones, para evaluar la bondad de un\n",
    "algoritmo, debemos entrenarlo sobre un conjunto de datos diferente del\n",
    "conjunto sobre el que posteriormente testearemos.\n",
    "\n",
    "Nosotros entrenaremos con 1/4 parte de los datos y evaluaremos sobre el resto.\n",
    "\n",
    "En primer lugar, y para comprobar si la inclusión de palabras exclusivas de\n",
    "un entorno ayuda a la predicción, haremos uso de un modelo Naïve Bayes."
   ],
   "metadata": {
    "collapsed": false,
    "pycharm": {
     "name": "#%% md\n"
    }
   }
  },
  {
   "cell_type": "code",
   "execution_count": 15,
   "outputs": [
    {
     "name": "stdout",
     "output_type": "stream",
     "text": [
      "Most Informative Features\n",
      "               wordcount = 5                 pos : neg    =      6.0 : 1.0\n",
      "               wordcount = 2                 pos : neg    =      3.7 : 1.0\n",
      "               wordcount = 1                 pos : neg    =      1.7 : 1.0\n",
      "               wordcount = 0                 neg : pos    =      1.7 : 1.0\n",
      "               wordcount = 4                 pos : neg    =      1.1 : 1.0\n",
      "Precision (accuracy): 66.60%\n"
     ]
    }
   ],
   "source": [
    "train_count = len(features) // 4\n",
    "random.shuffle(features)\n",
    "classifier = nltk.NaiveBayesClassifier.train(features[:train_count])\n",
    "classifier.show_most_informative_features(10)\n",
    "print(f'Precision (accuracy): {nltk.classify.accuracy(classifier, features[train_count:]):.2%}')\n"
   ],
   "metadata": {
    "collapsed": false,
    "pycharm": {
     "name": "#%%\n"
    }
   }
  },
  {
   "cell_type": "markdown",
   "source": [
    "Por último, y como curiosidad, vamos a entrenar varios modelos de\n",
    "aprendizaje automático a partir de estas features que hemos calculado\n",
    "nosotros manualmente y que antes han demostrado mejorar sobre nuestro\n",
    "sistema de defecto de NLTK."
   ],
   "metadata": {
    "collapsed": false,
    "pycharm": {
     "name": "#%% md\n"
    }
   }
  },
  {
   "cell_type": "code",
   "execution_count": 16,
   "outputs": [],
   "source": [
    "from sklearn.naive_bayes import (\n",
    "    BernoulliNB,\n",
    "    ComplementNB,\n",
    "    MultinomialNB,\n",
    ")\n",
    "from sklearn.neighbors import KNeighborsClassifier\n",
    "from sklearn.tree import DecisionTreeClassifier\n",
    "from sklearn.ensemble import RandomForestClassifier, AdaBoostClassifier\n",
    "from sklearn.linear_model import LogisticRegression\n",
    "from sklearn.neural_network import MLPClassifier\n",
    "from sklearn.discriminant_analysis import QuadraticDiscriminantAnalysis\n",
    "\n",
    "classifiers = {\n",
    "    \"BernoulliNB\": BernoulliNB(),\n",
    "    \"ComplementNB\": ComplementNB(),\n",
    "    \"MultinomialNB\": MultinomialNB(),\n",
    "    \"KNeighborsClassifier\": KNeighborsClassifier(),\n",
    "    \"DecisionTreeClassifier\": DecisionTreeClassifier(),\n",
    "    \"RandomForestClassifier\": RandomForestClassifier(),\n",
    "    \"LogisticRegression\": LogisticRegression(),\n",
    "    \"MLPClassifier\": MLPClassifier(max_iter=1000),\n",
    "    \"AdaBoostClassifier\": AdaBoostClassifier(),\n",
    "}"
   ],
   "metadata": {
    "collapsed": false,
    "pycharm": {
     "name": "#%%\n"
    }
   }
  },
  {
   "cell_type": "code",
   "execution_count": 17,
   "outputs": [
    {
     "name": "stdout",
     "output_type": "stream",
     "text": [
      "Precision (accuracy): 66.93% - BernoulliNB\n",
      "Precision (accuracy): 66.93% - ComplementNB\n",
      "Precision (accuracy): 66.93% - MultinomialNB\n",
      "Precision (accuracy): 66.67% - KNeighborsClassifier\n",
      "Precision (accuracy): 60.47% - DecisionTreeClassifier\n",
      "Precision (accuracy): 66.60% - RandomForestClassifier\n",
      "Precision (accuracy): 72.27% - LogisticRegression\n",
      "Precision (accuracy): 73.07% - MLPClassifier\n",
      "Precision (accuracy): 70.00% - AdaBoostClassifier\n"
     ]
    }
   ],
   "source": [
    "train_count = len(features) // 4\n",
    "random.shuffle(features)\n",
    "for name, sklearn_class in classifiers.items():\n",
    "  classifier = nltk.classify.SklearnClassifier(sklearn_class)\n",
    "  classifier.train(features[:train_count])\n",
    "  accuracy = nltk.classify.accuracy(classifier, features[train_count:])\n",
    "  print(f'Precision (accuracy): {accuracy:.2%} - {name}')"
   ],
   "metadata": {
    "collapsed": false,
    "pycharm": {
     "name": "#%%\n"
    }
   }
  }
 ],
 "metadata": {
  "kernelspec": {
   "display_name": "Python 3",
   "language": "python",
   "name": "python3"
  },
  "language_info": {
   "codemirror_mode": {
    "name": "ipython",
    "version": 3
   },
   "file_extension": ".py",
   "mimetype": "text/x-python",
   "name": "python",
   "nbconvert_exporter": "python",
   "pygments_lexer": "ipython3",
   "version": "3.6.9"
  }
 },
 "nbformat": 4,
 "nbformat_minor": 1
}