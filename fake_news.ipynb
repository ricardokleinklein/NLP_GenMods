{
  "nbformat": 4,
  "nbformat_minor": 0,
  "metadata": {
    "kernelspec": {
      "display_name": "Python 3",
      "language": "python",
      "name": "python3"
    },
    "language_info": {
      "codemirror_mode": {
        "name": "ipython",
        "version": 2
      },
      "file_extension": ".py",
      "mimetype": "text/x-python",
      "name": "python",
      "nbconvert_exporter": "python",
      "pygments_lexer": "ipython2",
      "version": "2.7.6"
    },
    "colab": {
      "name": "fake_news.ipynb",
      "provenance": []
    },
    "accelerator": "GPU"
  },
  "cells": [
    {
      "cell_type": "code",
      "metadata": {
        "collapsed": true,
        "id": "aDK-NhXeK6pg"
      },
      "source": [
        ""
      ],
      "execution_count": null,
      "outputs": []
    },
    {
      "cell_type": "markdown",
      "metadata": {
        "collapsed": false,
        "id": "oIaMDBiWK6ph"
      },
      "source": [
        "![Open In Colab](https://colab.research.google.com/assets/colab-badge.svg)\n",
        "\n",
        "Find this notebook in https://colab.research.google.com/github/ricardokleinklein/NLP_GenMods/blob/main/fake_news.ipynb"
      ]
    },
    {
      "cell_type": "markdown",
      "metadata": {
        "collapsed": false,
        "id": "kxaOsvxdK6pj"
      },
      "source": [
        "# Modelos Generativos\n",
        "\n",
        "## Detección de Fake News - NLP\n",
        "\n",
        "Creado por *Ricardo Kleinlein* para [Saturdays.AI](https://saturdays.ai/).\n",
        "\n",
        "Disponible bajo una licencia [Creative Commons](https://creativecommons.org/licenses/by/4.0/).\n",
        "\n",
        "---"
      ]
    },
    {
      "cell_type": "markdown",
      "metadata": {
        "collapsed": false,
        "id": "5y79UQ-PK6pk"
      },
      "source": [
        "## Sobre el uso de Jupyter Notebooks\n",
        "\n",
        "Este notebook ha sido implementado en Python, pero para su ejecución no es\n",
        "necesario conocer el lenguaje en profundidad. Solamente se debe ejecutar cada\n",
        "una de las celdas, teniendo en cuenta que hay que ejecutar una celda a la vez\n",
        "y secuencialmente, tal y como figuran en orden de aparición.\n",
        "\n",
        "Para ejecutar cada celda pulse en el botón ▶ en la esquina superior izquierda\n",
        "de cada celda. Mientras se esté ejecutando ese fragmento de código,\n",
        "el botón estará girando. En caso de querer detener dicha ejecución, pulse\n",
        "nuevamente sobre este botón mientras gira y la ejecución se detendrá. En caso\n",
        "de que la celda tenga alguna salida (texto, gráficos, etc) será mostrada\n",
        "justo después de esta y antes de mostrar la siguiente celda. El notebook\n",
        "estará guiado con todas las explicaciones necesarias, además irá acompañado\n",
        "por comentarios en el código para facilitar su lectura.\n",
        "\n",
        "En caso de tener alguna duda, anótela. Dedicaremos un tiempo a plantear y\n",
        "resolver la mayoría delas dudas que puedan aparecer.\n"
      ]
    },
    {
      "cell_type": "markdown",
      "metadata": {
        "collapsed": false,
        "id": "p5D3zAkxK6pk"
      },
      "source": [
        "## Objetivo del notebook\n",
        "\n",
        "Implementar, entrenar y evaluar un modelo de predicción de noticias falsas\n",
        "relacionadas con la pandemia de la COVID-19 en inglés.\n",
        "\n",
        "Dicho modelo estará basado en una red neuronal profunda recurrente que\n",
        "observará vectores de palabra preentrenados.\n"
      ]
    },
    {
      "cell_type": "markdown",
      "metadata": {
        "collapsed": false,
        "pycharm": {
          "name": "#%% md\n"
        },
        "id": "QOBY9B54K6pl"
      },
      "source": [
        "## Importamos las librerías"
      ]
    },
    {
      "cell_type": "code",
      "metadata": {
        "pycharm": {
          "name": "#%%\n"
        },
        "id": "5epx704iK6pl",
        "outputId": "6d67b3be-070a-4492-f853-f9829d52293f",
        "colab": {
          "base_uri": "https://localhost:8080/"
        }
      },
      "source": [
        "import pandas\n",
        "import numpy\n",
        "import torch\n",
        "import matplotlib.pyplot as plt\n",
        "\n",
        "%matplotlib inline\n",
        "!ls"
      ],
      "execution_count": 58,
      "outputs": [
        {
          "output_type": "stream",
          "name": "stdout",
          "text": [
            "sample_data  tweets_test.csv  tweets_train.csv\n"
          ]
        }
      ]
    },
    {
      "cell_type": "markdown",
      "metadata": {
        "collapsed": false,
        "pycharm": {
          "name": "#%% md\n"
        },
        "id": "62ZsGm7TK6pm"
      },
      "source": [
        "## Accedemos a la base de datos\n",
        "\n",
        "Si la celda inferior fallara, podemos subir el archivo manualmente a Google\n",
        "Colab."
      ]
    },
    {
      "cell_type": "code",
      "metadata": {
        "pycharm": {
          "name": "#%%\n"
        },
        "id": "Av6cbI36K6pm"
      },
      "source": [
        "df_train = pandas.read_csv('./tweets_train.csv')\n",
        "df_test = pandas.read_csv('./tweets_test.csv')\n",
        "\n",
        "def news_iterator(tweets, labels):\n",
        "    for tweet, label in zip(tweets, labels):\n",
        "        yield (label, tweet)\n",
        "\n",
        "train_iter = news_iterator(df_train['tweet'].values, df_train['label'].values)\n",
        "test_iter = news_iterator(df_test['tweet'].values, df_test['label'].values)\n"
      ],
      "execution_count": 42,
      "outputs": []
    },
    {
      "cell_type": "markdown",
      "metadata": {
        "collapsed": false,
        "pycharm": {
          "name": "#%% md\n"
        },
        "id": "9E-qEiVFK6pn"
      },
      "source": [
        "## Qué aspecto tienen los datos?\n",
        "\n",
        "Al ser una clasificación binaria (real / fake), solo van a existir 2\n",
        "categorías."
      ]
    },
    {
      "cell_type": "code",
      "metadata": {
        "pycharm": {
          "name": "#%%\n"
        },
        "id": "dmbtjIERK6pn",
        "outputId": "b8e51269-ae2d-4503-b85d-fa26f80cacc5",
        "colab": {
          "base_uri": "https://localhost:8080/"
        }
      },
      "source": [
        "print(df_train.head(5))\n",
        "df_train['label'].describe()"
      ],
      "execution_count": 43,
      "outputs": [
        {
          "output_type": "stream",
          "name": "stdout",
          "text": [
            "   id                                              tweet label\n",
            "0   1  The CDC currently reports 99031 deaths. In gen...  real\n",
            "1   2  States reported 1121 deaths a small rise from ...  real\n",
            "2   3  Politically Correct Woman (Almost) Uses Pandem...  fake\n",
            "3   4  #IndiaFightsCorona: We have 1524 #COVID testin...  real\n",
            "4   5  Populous states can generate large case counts...  real\n"
          ]
        },
        {
          "output_type": "execute_result",
          "data": {
            "text/plain": [
              "count     6420\n",
              "unique       2\n",
              "top       real\n",
              "freq      3360\n",
              "Name: label, dtype: object"
            ]
          },
          "metadata": {},
          "execution_count": 43
        }
      ]
    },
    {
      "cell_type": "code",
      "metadata": {
        "id": "nXmUxpuDLmFm",
        "outputId": "d4526646-16c1-4aa1-a54d-b127adb92e8f",
        "colab": {
          "base_uri": "https://localhost:8080/"
        }
      },
      "source": [
        "print(df_test.head(5))\n",
        "df_test['label'].describe()"
      ],
      "execution_count": 44,
      "outputs": [
        {
          "output_type": "stream",
          "name": "stdout",
          "text": [
            "   id                                              tweet label\n",
            "0   1  Our daily update is published. States reported...  real\n",
            "1   2             Alfalfa is the only cure for COVID-19.  fake\n",
            "2   3  President Trump Asked What He Would Do If He W...  fake\n",
            "3   4  States reported 630 deaths. We are still seein...  real\n",
            "4   5  This is the sixth time a global health emergen...  real\n"
          ]
        },
        {
          "output_type": "execute_result",
          "data": {
            "text/plain": [
              "count     2140\n",
              "unique       2\n",
              "top       real\n",
              "freq      1120\n",
              "Name: label, dtype: object"
            ]
          },
          "metadata": {},
          "execution_count": 44
        }
      ]
    },
    {
      "cell_type": "markdown",
      "metadata": {
        "collapsed": false,
        "pycharm": {
          "name": "#%% md\n"
        },
        "id": "hixPgbCyK6po"
      },
      "source": [
        "Como vemos, es una tarea en la que las etiquetas están bastante equilibradas\n",
        " (52% de verdaderas, 48% de noticias falsas), convirtiendo el problema en un\n",
        "  caso estándar susceptible de ser atacado mediante machine learning."
      ]
    },
    {
      "cell_type": "markdown",
      "metadata": {
        "collapsed": false,
        "pycharm": {
          "name": "#%% md\n"
        },
        "id": "tozzNo1bK6po"
      },
      "source": [
        "## Preprocesado\n",
        "\n",
        "Como hemos comentado en otro notebook, un paso fundamental consiste en\n",
        "tokenizar nuestras palabras y construir con ello un vocabulario de nuestra\n",
        "tarea."
      ]
    },
    {
      "cell_type": "code",
      "metadata": {
        "pycharm": {
          "name": "#%%\n"
        },
        "id": "-NYlsbkGK6pp"
      },
      "source": [
        "from torchtext.data.utils import get_tokenizer\n",
        "from torchtext.vocab import build_vocab_from_iterator\n",
        "\n",
        "tokenizer = get_tokenizer('basic_english')\n",
        "\n",
        "def yield_tokens(data_iter):\n",
        "    for _, text in data_iter:\n",
        "        yield tokenizer(text)\n",
        "\n",
        "vocab = build_vocab_from_iterator(yield_tokens(train_iter), specials=[\"<unk>\"])\n",
        "vocab.set_default_index(vocab[\"<unk>\"])"
      ],
      "execution_count": 45,
      "outputs": []
    },
    {
      "cell_type": "markdown",
      "metadata": {
        "collapsed": false,
        "pycharm": {
          "name": "#%% md\n"
        },
        "id": "I6vm1eGkK6pp"
      },
      "source": [
        "Con este procesado pasamos de palabras a una lista de índices:"
      ]
    },
    {
      "cell_type": "code",
      "metadata": {
        "pycharm": {
          "name": "#%%\n"
        },
        "id": "arDwCOWkK6pp",
        "outputId": "3e36b38d-f612-487e-dbc9-86642f5cf628",
        "colab": {
          "base_uri": "https://localhost:8080/"
        }
      },
      "source": [
        "vocab(['here', 'is', 'an', 'instance'])"
      ],
      "execution_count": 46,
      "outputs": [
        {
          "output_type": "execute_result",
          "data": {
            "text/plain": [
              "[142, 10, 65, 17852]"
            ]
          },
          "metadata": {},
          "execution_count": 46
        }
      ]
    },
    {
      "cell_type": "markdown",
      "metadata": {
        "collapsed": false,
        "pycharm": {
          "name": "#%% md\n"
        },
        "id": "5bnCOYalK6pp"
      },
      "source": [
        "Vamos ahora a preparar de terminar el pipeline de entrada de texto, junto\n",
        "con la entrada del label de cada muestra."
      ]
    },
    {
      "cell_type": "code",
      "metadata": {
        "pycharm": {
          "name": "#%%\n"
        },
        "id": "NIGFU3WxK6pq"
      },
      "source": [
        "text_pipeline = lambda x: vocab(tokenizer(x))\n",
        "label_pipeline = lambda x: 0 if x == 'fake' else 1"
      ],
      "execution_count": 47,
      "outputs": []
    },
    {
      "cell_type": "markdown",
      "metadata": {
        "collapsed": false,
        "pycharm": {
          "name": "#%% md\n"
        },
        "id": "QCdDfHJ6K6pq"
      },
      "source": [
        "Esto es en realidad una look-up table definida por la manera de construir\n",
        "nuestro vocabulario. Igualmente, convertimos las etiquetas en un índice, en\n",
        "lugar de su forma original."
      ]
    },
    {
      "cell_type": "code",
      "metadata": {
        "pycharm": {
          "name": "#%%\n"
        },
        "id": "ehP2ZYAzK6pq",
        "outputId": "7fe68194-f228-4a63-be30-8de22ce24124",
        "colab": {
          "base_uri": "https://localhost:8080/"
        }
      },
      "source": [
        "print(text_pipeline('here is a new instance'))\n",
        "print(label_pipeline('fake'))"
      ],
      "execution_count": 48,
      "outputs": [
        {
          "output_type": "stream",
          "name": "stdout",
          "text": [
            "[142, 10, 8, 22, 17852]\n",
            "0\n"
          ]
        }
      ]
    },
    {
      "cell_type": "markdown",
      "metadata": {
        "collapsed": false,
        "pycharm": {
          "name": "#%% md\n"
        },
        "id": "5IC0Mc-IK6pq"
      },
      "source": [
        "## Generar batches e iterador"
      ]
    },
    {
      "cell_type": "code",
      "metadata": {
        "pycharm": {
          "name": "#%%\n"
        },
        "id": "Ks-NlHDuK6pq"
      },
      "source": [
        "from torch.utils.data import DataLoader\n",
        "device = torch.device(\"cuda\" if torch.cuda.is_available() else \"cpu\")\n",
        "\n",
        "def collate_batch(batch):\n",
        "    label_list, text_list, offsets = [], [], [0]\n",
        "    for (_label, _text) in batch:\n",
        "         label_list.append(label_pipeline(_label))\n",
        "         processed_text = torch.tensor(text_pipeline(_text), dtype=torch.int64)\n",
        "         text_list.append(processed_text)\n",
        "         offsets.append(processed_text.size(0))\n",
        "    label_list = torch.tensor(label_list, dtype=torch.int64)\n",
        "    offsets = torch.tensor(offsets[:-1]).cumsum(dim=0)\n",
        "    text_list = torch.cat(text_list)\n",
        "    return label_list.to(device), text_list.to(device), offsets.to(device)\n",
        "dataloader = DataLoader(train_iter, batch_size=8, shuffle=False, collate_fn=collate_batch)"
      ],
      "execution_count": 49,
      "outputs": []
    },
    {
      "cell_type": "markdown",
      "metadata": {
        "collapsed": false,
        "pycharm": {
          "name": "#%% md\n"
        },
        "id": "d3eHZ8n2K6pr"
      },
      "source": [
        "## Definimos el modelo a usar"
      ]
    },
    {
      "cell_type": "code",
      "metadata": {
        "pycharm": {
          "name": "#%%\n"
        },
        "id": "P3EsB-qOK6pr"
      },
      "source": [
        "from torch import nn\n",
        "\n",
        "class TextClassificationModel(nn.Module):\n",
        "\n",
        "    def __init__(self, vocab_size, embed_dim, num_class):\n",
        "        super(TextClassificationModel, self).__init__()\n",
        "        self.embedding = nn.EmbeddingBag(vocab_size, embed_dim, sparse=True)\n",
        "        self.fc = nn.Linear(embed_dim, num_class)\n",
        "        self.init_weights()\n",
        "\n",
        "    def init_weights(self):\n",
        "        initrange = 0.5\n",
        "        self.embedding.weight.data.uniform_(-initrange, initrange)\n",
        "        self.fc.weight.data.uniform_(-initrange, initrange)\n",
        "        self.fc.bias.data.zero_()\n",
        "\n",
        "    def forward(self, text, offsets):\n",
        "        embedded = self.embedding(text, offsets)\n",
        "        return self.fc(embedded)"
      ],
      "execution_count": 50,
      "outputs": []
    },
    {
      "cell_type": "code",
      "metadata": {
        "pycharm": {
          "name": "#%%\n"
        },
        "id": "oI_gC1C8K6pr"
      },
      "source": [
        "model = TextClassificationModel(vocab_size=len(vocab), embed_dim=8,\n",
        "                                num_class=2).to(device)"
      ],
      "execution_count": 83,
      "outputs": []
    },
    {
      "cell_type": "markdown",
      "metadata": {
        "collapsed": false,
        "pycharm": {
          "name": "#%% md\n"
        },
        "id": "nEp5vIF5K6pr"
      },
      "source": [
        "## Definir la función de entrenamiento y evaluación"
      ]
    },
    {
      "cell_type": "code",
      "metadata": {
        "pycharm": {
          "name": "#%%\n"
        },
        "id": "vdNZ08_QK6pr"
      },
      "source": [
        "import time\n",
        "\n",
        "def train(dataloader):\n",
        "    model.train()\n",
        "    total_acc, total_count = 0, 0\n",
        "    log_interval = 500\n",
        "    start_time = time.time()\n",
        "    accumulated_loss = []\n",
        "\n",
        "    for idx, (label, text, offsets) in enumerate(dataloader):\n",
        "        optimizer.zero_grad()\n",
        "        predicted_label = model(text, offsets)\n",
        "        loss = criterion(predicted_label, label)\n",
        "        loss.backward()\n",
        "        torch.nn.utils.clip_grad_norm_(model.parameters(), 0.1)\n",
        "        optimizer.step()\n",
        "        total_acc += (predicted_label.argmax(1) == label).sum().item()\n",
        "        total_count += label.size(0)\n",
        "        accumulated_loss.append(loss)\n",
        "        if idx % log_interval == 0 and idx > 0:\n",
        "            elapsed = time.time() - start_time\n",
        "            print('| epoch {:3d} | {:5d}/{:5d} batches '\n",
        "                  '| accuracy {:8.3f}'.format(epoch, idx, len(dataloader),\n",
        "                                              total_acc/total_count))\n",
        "            total_acc, total_count = 0, 0\n",
        "            start_time = time.time()\n",
        "    return torch.mean(torch.stack(accumulated_loss))\n",
        "\n",
        "def evaluate(dataloader):\n",
        "    model.eval()\n",
        "    total_acc, total_count = 0, 0\n",
        "    accumulated_loss = []\n",
        "\n",
        "    with torch.no_grad():\n",
        "        for idx, (label, text, offsets) in enumerate(dataloader):\n",
        "            predicted_label = model(text, offsets)\n",
        "            loss = criterion(predicted_label, label)\n",
        "            accumulated_loss.append(loss)\n",
        "            total_acc += (predicted_label.argmax(1) == label).sum().item()\n",
        "            total_count += label.size(0)\n",
        "    return total_acc/total_count, torch.mean(torch.stack(accumulated_loss))\n",
        "\n"
      ],
      "execution_count": 79,
      "outputs": []
    },
    {
      "cell_type": "code",
      "metadata": {
        "id": "Fl7Ov9SCLyk9",
        "outputId": "87baf302-ac4f-4e79-8f51-9cddf89832a4",
        "colab": {
          "base_uri": "https://localhost:8080/"
        }
      },
      "source": [
        "from torch.utils.data.dataset import random_split\n",
        "from torchtext.data.functional import to_map_style_dataset\n",
        "# Hyperparameters\n",
        "EPOCHS = 15 # epoch\n",
        "LR = 1e-2  # learning rate\n",
        "BATCH_SIZE = 64 # batch size for training\n",
        "\n",
        "criterion = torch.nn.CrossEntropyLoss()\n",
        "optimizer = torch.optim.SGD(model.parameters(), lr=LR)\n",
        "scheduler = torch.optim.lr_scheduler.StepLR(optimizer, 1.0, gamma=0.1)\n",
        "\n",
        "total_accu = None\n",
        "\n",
        "train_iter = news_iterator(df_train['tweet'].values, df_train['label'].values)\n",
        "test_iter = news_iterator(df_test['tweet'].values, df_test['label'].values)\n",
        "\n",
        "train_dataset = to_map_style_dataset(train_iter)\n",
        "test_dataset = to_map_style_dataset(test_iter)\n",
        "num_train = int(len(train_dataset) * 0.7)\n",
        "split_train_, split_valid_ = \\\n",
        "    random_split(train_dataset, [num_train, len(train_dataset) - num_train])\n",
        "\n",
        "train_dataloader = DataLoader(split_train_, batch_size=BATCH_SIZE,\n",
        "                              shuffle=True, collate_fn=collate_batch)\n",
        "valid_dataloader = DataLoader(split_valid_, batch_size=BATCH_SIZE,\n",
        "                              shuffle=True, collate_fn=collate_batch)\n",
        "test_dataloader = DataLoader(test_dataset, batch_size=BATCH_SIZE,\n",
        "                             shuffle=True, collate_fn=collate_batch)\n",
        "train_loss = []\n",
        "val_loss = []\n",
        "for epoch in range(1, EPOCHS + 1):\n",
        "    epoch_start_time = time.time()\n",
        "    train_loss.append(train(train_dataloader))\n",
        "    accu_val, loss_val = evaluate(valid_dataloader)\n",
        "    val_loss.append(loss_val)\n",
        "    if total_accu is not None and total_accu > accu_val:\n",
        "      scheduler.step()\n",
        "    else:\n",
        "       total_accu = accu_val\n",
        "    print('-' * 59)\n",
        "    print('| end of epoch {:3d} | time: {:5.2f}s | '\n",
        "          'valid accuracy {:8.3f} '.format(epoch,\n",
        "                                           time.time() - epoch_start_time,\n",
        "                                           accu_val))\n",
        "    print('-' * 59)\n"
      ],
      "execution_count": 84,
      "outputs": [
        {
          "output_type": "stream",
          "name": "stdout",
          "text": [
            "-----------------------------------------------------------\n",
            "| end of epoch   1 | time:  0.46s | valid accuracy    0.559 \n",
            "-----------------------------------------------------------\n",
            "-----------------------------------------------------------\n",
            "| end of epoch   2 | time:  0.47s | valid accuracy    0.563 \n",
            "-----------------------------------------------------------\n",
            "-----------------------------------------------------------\n",
            "| end of epoch   3 | time:  0.46s | valid accuracy    0.557 \n",
            "-----------------------------------------------------------\n",
            "-----------------------------------------------------------\n",
            "| end of epoch   4 | time:  0.49s | valid accuracy    0.560 \n",
            "-----------------------------------------------------------\n",
            "-----------------------------------------------------------\n",
            "| end of epoch   5 | time:  0.48s | valid accuracy    0.560 \n",
            "-----------------------------------------------------------\n",
            "-----------------------------------------------------------\n",
            "| end of epoch   6 | time:  0.47s | valid accuracy    0.560 \n",
            "-----------------------------------------------------------\n",
            "-----------------------------------------------------------\n",
            "| end of epoch   7 | time:  0.46s | valid accuracy    0.560 \n",
            "-----------------------------------------------------------\n",
            "-----------------------------------------------------------\n",
            "| end of epoch   8 | time:  0.45s | valid accuracy    0.560 \n",
            "-----------------------------------------------------------\n",
            "-----------------------------------------------------------\n",
            "| end of epoch   9 | time:  0.47s | valid accuracy    0.560 \n",
            "-----------------------------------------------------------\n",
            "-----------------------------------------------------------\n",
            "| end of epoch  10 | time:  0.45s | valid accuracy    0.560 \n",
            "-----------------------------------------------------------\n",
            "-----------------------------------------------------------\n",
            "| end of epoch  11 | time:  0.45s | valid accuracy    0.560 \n",
            "-----------------------------------------------------------\n",
            "-----------------------------------------------------------\n",
            "| end of epoch  12 | time:  0.45s | valid accuracy    0.560 \n",
            "-----------------------------------------------------------\n",
            "-----------------------------------------------------------\n",
            "| end of epoch  13 | time:  0.47s | valid accuracy    0.560 \n",
            "-----------------------------------------------------------\n",
            "-----------------------------------------------------------\n",
            "| end of epoch  14 | time:  0.46s | valid accuracy    0.560 \n",
            "-----------------------------------------------------------\n",
            "-----------------------------------------------------------\n",
            "| end of epoch  15 | time:  0.47s | valid accuracy    0.560 \n",
            "-----------------------------------------------------------\n"
          ]
        }
      ]
    },
    {
      "cell_type": "code",
      "metadata": {
        "id": "FhIB8bChSyDI",
        "outputId": "1b6c1240-355a-499d-a476-29e56603bee2",
        "colab": {
          "base_uri": "https://localhost:8080/",
          "height": 282
        }
      },
      "source": [
        "train_loss = [x.cpu().detach().numpy() for x in train_loss]\n",
        "val_loss = [x.cpu().detach().numpy() for x in val_loss]\n",
        "plt.plot(train_loss)\n",
        "plt.plot(val_loss)"
      ],
      "execution_count": 85,
      "outputs": [
        {
          "output_type": "execute_result",
          "data": {
            "text/plain": [
              "[<matplotlib.lines.Line2D at 0x7fc7644aaf90>]"
            ]
          },
          "metadata": {},
          "execution_count": 85
        },
        {
          "output_type": "display_data",
          "data": {
            "image/png": "[encoded data removed]",
            "text/plain": [
              "<Figure size 432x288 with 1 Axes>"
            ]
          },
          "metadata": {
            "needs_background": "light"
          }
        }
      ]
    },
    {
      "cell_type": "code",
      "metadata": {
        "id": "yMKyeVE8RXA0",
        "outputId": "9cd503fc-14a1-4e49-8483-b2e287de672a",
        "colab": {
          "base_uri": "https://localhost:8080/"
        }
      },
      "source": [
        "print('Checking the results of test dataset.')\n",
        "accu_test, _ = evaluate(test_dataloader)\n",
        "print('test accuracy {:8.3f}'.format(accu_test))"
      ],
      "execution_count": 87,
      "outputs": [
        {
          "output_type": "stream",
          "name": "stdout",
          "text": [
            "Checking the results of test dataset.\n",
            "test accuracy    0.547\n"
          ]
        }
      ]
    }
  ]
}