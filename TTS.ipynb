{
 "cells": [
  {
   "cell_type": "markdown",
   "source": [
    "![Open In Colab](https://colab.research.google.com/assets/colab-badge.svg)\n",
    "(https://colab.research.google.com/github/ricardokleinklein/NLP_GenMods/blob/main/TTS.ipynb)"
   ],
   "metadata": {
    "collapsed": false
   }
  },
  {
   "cell_type": "markdown",
   "source": [
    "# Modelos Generativos\n",
    "\n",
    "## WaveNet - Audio\n",
    "\n",
    "Creado por *Ricardo Kleinlein* para [Saturdays.AI](https://saturdays.ai/).\n",
    "\n",
    "Disponible bajo una licencia [Creative Commons](https://creativecommons.org/licenses/by/4.0/).\n",
    "\n",
    "---"
   ],
   "metadata": {
    "collapsed": false
   }
  },
  {
   "cell_type": "markdown",
   "source": [
    "## Sobre el uso de Jupyter Notebooks\n",
    "\n",
    "Este notebook ha sido implementado en Python, pero para su ejecución no es\n",
    "necesario conocer el lenguaje en profundidad. Solamente se debe ejecutar cada\n",
    "una de las celdas, teniendo en cuenta que hay que ejecutar una celda a la vez\n",
    "y secuencialmente, tal y como figuran en orden de aparición.\n",
    "\n",
    "Para ejecutar cada celda pulse en el botón ▶ en la esquina superior izquierda\n",
    "de cada celda. Mientras se esté ejecutando ese fragmento de código,\n",
    "el botón estará girando. En caso de querer detener dicha ejecución, pulse\n",
    "nuevamente sobre este botón mientras gira y la ejecución se detendrá. En caso\n",
    "de que la celda tenga alguna salida (texto, gráficos, etc) será mostrada\n",
    "justo después de esta y antes de mostrar la siguiente celda. El notebook\n",
    "estará guiado con todas las explicaciones necesarias, además irá acompañado\n",
    "por comentarios en el código para facilitar su lectura.\n",
    "\n",
    "En caso de tener alguna duda, anótela. Dedicaremos un tiempo a plantear y\n",
    "resolver la mayoría delas dudas que puedan aparecer.\n"
   ],
   "metadata": {
    "collapsed": false
   }
  },
  {
   "cell_type": "markdown",
   "source": [
    "## Objetivo del notebook\n",
    "\n",
    "Tener una intuición acerca de cómo podemos generar habla sintética a partir\n",
    "de mensajes en texto mediante la red neuronal profunda WaveNet.\n",
    "\n",
    "### Disclaimer\n",
    "\n",
    "Trabajar con el modelo completo requeriría GPUs, toneladas de cálculos y\n",
    "mucho tiempo. El WaveNet original tarda hasta 5 minutos en generar cada\n",
    "segundo de audio, por lo que aquí vamos a trabajar mediante la API de Google\n",
    " Translate.\n",
    "\n",
    "## Sobre el modelo\n",
    "\n",
    "Vamos a emplear la versión de WaveNet que utiliza Google Translate por\n",
    "defecto para dar voz a las traducciones generadas. En el modelo original,\n",
    "mostrado abajo, existen muchas maneras de modificar la voz producida, la\n",
    "cual ni siquiera debe circunscribirse a un texto en concreto (véase [el blog\n",
    "original](https://deepmind.com/blog/article/wavenet-generative-model-raw\n",
    "-audio) y las muestras de audio que adjuntan).\n",
    "\n",
    "![Estructura generativa Wavenet](./assets/wavenet.gif)\n",
    "\n",
    "Procedimientos habituales son \"condicionar\" la señal de entrada para generar\n",
    " voces con acentos concretos, cambiar el sexo de la voz, o la que\n",
    " realizaremos nosotros, escribir explícitamente qué queremos que diga."
   ],
   "metadata": {
    "collapsed": false
   }
  },
  {
   "cell_type": "markdown",
   "source": [
    "## Importar las librerías necesarias"
   ],
   "metadata": {
    "collapsed": false,
    "pycharm": {
     "name": "#%% md\n"
    }
   }
  },
  {
   "cell_type": "code",
   "execution_count": 7,
   "outputs": [],
   "source": [
    "from gtts import gTTS\n",
    "from playsound import playsound"
   ],
   "metadata": {
    "collapsed": false,
    "pycharm": {
     "name": "#%%\n"
    }
   }
  },
  {
   "cell_type": "code",
   "execution_count": 9,
   "outputs": [],
   "source": [
    "# Vamos a ver ejemplos de generación en inglés y en español, pero existe un\n",
    "# gama enorme de idiomas en los que trabajar. Véase:\n",
    "# https://gtts.readthedocs.io/en/latest/module.html#languages-gtts-lang\n",
    "\n",
    "spa_example = gTTS('Saludos de parte de todo el equipo de Saturdays.AI',\n",
    "                   lang=\"es\")\n",
    "spa_example.save('./' + 'SPA-example.mp3')\n",
    "playsound('./' + 'SPA-example.mp3')\n",
    "\n",
    "eng_example = gTTS('Greetings on behalf of the team of Saturdays.AI',\n",
    "                   lang='en')\n",
    "eng_example.save('./' + 'ENG-example.mp3')\n",
    "playsound('./' + 'ENG-example.mp3')"
   ],
   "metadata": {
    "collapsed": false,
    "pycharm": {
     "name": "#%%\n"
    }
   }
  }
 ],
 "metadata": {
  "kernelspec": {
   "display_name": "Python 3",
   "language": "python",
   "name": "python3"
  },
  "language_info": {
   "codemirror_mode": {
    "name": "ipython",
    "version": 2
   },
   "file_extension": ".py",
   "mimetype": "text/x-python",
   "name": "python",
   "nbconvert_exporter": "python",
   "pygments_lexer": "ipython2",
   "version": "2.7.6"
  }
 },
 "nbformat": 4,
 "nbformat_minor": 0
}